{
 "cells": [
  {
   "cell_type": "code",
   "execution_count": 307,
   "metadata": {},
   "outputs": [],
   "source": [
    "import numpy as np\n",
    "from matplotlib import pyplot as plt\n",
    "import time\n",
    "\n",
    "from sklearn.svm import SVC\n",
    "from cvxopt import matrix as cvxopt_matrix\n",
    "from cvxopt import solvers as cvxopt_solvers"
   ]
  },
  {
   "cell_type": "code",
   "execution_count": 308,
   "metadata": {},
   "outputs": [],
   "source": [
    "my_sizeNtimes=[]\n",
    "sK_sizeNtimes=[]\n",
    "d1=np.random.rand(100,2)\n",
    "d2=np.random.rand(200,2)\n",
    "d3=np.random.rand(300,2)\n",
    "d4=np.random.rand(400,2)\n",
    "d5=np.random.rand(500,2)\n",
    "d6=np.random.rand(600,2)\n",
    "d7=np.random.rand(700,2)\n",
    "d8=np.random.rand(800,2)"
   ]
  },
  {
   "cell_type": "code",
   "execution_count": 309,
   "metadata": {},
   "outputs": [],
   "source": [
    "c1=np.random.choice([-1,1],d1.shape[0]).reshape(-1,1)\n",
    "c2=np.random.choice([-1,1],d2.shape[0]).reshape(-1,1)\n",
    "c3=np.random.choice([-1,1],d3.shape[0]).reshape(-1,1)\n",
    "c4=np.random.choice([-1,1],d4.shape[0]).reshape(-1,1)\n",
    "c5=np.random.choice([-1,1],d5.shape[0]).reshape(-1,1)\n",
    "c6=np.random.choice([-1,1],d6.shape[0]).reshape(-1,1)\n",
    "c7=np.random.choice([-1,1],d7.shape[0]).reshape(-1,1)\n",
    "c8=np.random.choice([-1,1],d8.shape[0]).reshape(-1,1)\n",
    "\n"
   ]
  },
  {
   "cell_type": "code",
   "execution_count": 310,
   "metadata": {},
   "outputs": [],
   "source": [
    "# hard-coded SVM\n",
    "def mySVM(X,y):    \n",
    "    C = 100\n",
    "    m,n = X.shape\n",
    "    Xy = y * X\n",
    "    H = np.dot(Xy , Xy.T)\n",
    "\n",
    "    P = cvxopt_matrix(H)\n",
    "    q = cvxopt_matrix(-np.ones((m, 1)))\n",
    "    G = cvxopt_matrix(np.vstack((np.eye(m)*-1,np.eye(m))))\n",
    "    h = cvxopt_matrix(np.hstack((np.zeros(m), np.ones(m) * C)))\n",
    "    A = cvxopt_matrix(y.T*1.0)\n",
    "    b = cvxopt_matrix(np.zeros(1))\n",
    "    \n",
    "    start=time.time()\n",
    "    sol = cvxopt_solvers.qp(P, q, G, h, A, b)\n",
    "    end=time.time()\n",
    "\n",
    "    lambdas = np.array(sol['x'])\n",
    "    w = np.matmul((y * lambdas).T,X).reshape(-1,1)\n",
    "    Sv = ((lambdas>0.09999) ).flatten()\n",
    "    w0 = np.mean(y[Sv] - np.dot(X[Sv], w))\n",
    "    my_sizeNtimes.append([X.shape[0],(end-start)*10**3])\n",
    "    return((end-start)*10**3, w, w0 )\n"
   ]
  },
  {
   "cell_type": "code",
   "execution_count": 311,
   "metadata": {},
   "outputs": [],
   "source": [
    "#sklearn SVM\n",
    "def skSvm(X,y):\n",
    "    starts = time.time()\n",
    "    model = SVC(C = 100, kernel = 'linear')\n",
    "    model.fit(X, y.reshape(-1)) \n",
    "    ends = time.time()\n",
    "    sK_sizeNtimes.append([X.shape[0],(ends-starts)*10**3])\n",
    "\n",
    "    return((ends-starts)*10**3 ,model.coef_, model.intercept_)\n"
   ]
  },
  {
   "cell_type": "code",
   "execution_count": 312,
   "metadata": {},
   "outputs": [
    {
     "name": "stdout",
     "output_type": "stream",
     "text": [
      "     pcost       dcost       gap    pres   dres\n",
      " 0: -4.7922e+03 -1.2023e+05  1e+05  4e-14  8e-14\n",
      " 1: -5.2991e+03 -1.0751e+04  5e+03  3e-14  6e-14\n",
      " 2: -8.4731e+03 -9.8381e+03  1e+03  1e-13  7e-14\n",
      " 3: -8.7903e+03 -8.8537e+03  6e+01  6e-14  8e-14\n",
      " 4: -8.7999e+03 -8.8005e+03  6e-01  1e-13  1e-13\n",
      " 5: -8.8000e+03 -8.8000e+03  6e-03  3e-13  9e-14\n",
      "Optimal solution found.\n",
      "     pcost       dcost       gap    pres   dres\n",
      " 0: -9.2297e+03 -3.3954e+05  3e+05  3e-13  2e-13\n",
      " 1: -1.0397e+04 -2.2622e+04  1e+04  1e-13  1e-13\n",
      " 2: -1.7932e+04 -1.9905e+04  2e+03  4e-13  2e-13\n",
      " 3: -1.8306e+04 -1.8854e+04  5e+02  1e-13  2e-13\n",
      " 4: -1.8349e+04 -1.8502e+04  2e+02  3e-13  2e-13\n",
      " 5: -1.8399e+04 -1.8406e+04  7e+00  5e-13  2e-13\n",
      " 6: -1.8400e+04 -1.8400e+04  7e-02  6e-14  2e-13\n",
      " 7: -1.8400e+04 -1.8400e+04  7e-04  3e-13  2e-13\n",
      "Optimal solution found.\n",
      "     pcost       dcost       gap    pres   dres\n",
      " 0: -1.4236e+04 -4.2265e+05  4e+05  2e-13  2e-13\n",
      " 1: -1.5882e+04 -3.3151e+04  2e+04  7e-13  2e-13\n",
      " 2: -2.7071e+04 -3.0570e+04  3e+03  3e-13  3e-13\n",
      " 3: -2.7549e+04 -2.9308e+04  2e+03  4e-13  2e-13\n",
      " 4: -2.7745e+04 -2.8853e+04  1e+03  5e-13  2e-13\n",
      " 5: -2.7928e+04 -2.8421e+04  5e+02  1e-13  2e-13\n",
      " 6: -2.8013e+04 -2.8257e+04  2e+02  6e-14  2e-13\n",
      " 7: -2.8090e+04 -2.8143e+04  5e+01  1e-13  3e-13\n",
      " 8: -2.8111e+04 -2.8115e+04  4e+00  6e-14  3e-13\n",
      " 9: -2.8113e+04 -2.8113e+04  5e-02  1e-13  3e-13\n",
      "10: -2.8113e+04 -2.8113e+04  5e-04  9e-14  3e-13\n",
      "Optimal solution found.\n",
      "     pcost       dcost       gap    pres   dres\n",
      " 0: -2.0023e+04 -3.0044e+05  3e+05  9e-14  3e-13\n",
      " 1: -2.2680e+04 -4.2230e+04  2e+04  1e-12  2e-13\n",
      " 2: -3.7975e+04 -4.1232e+04  3e+03  9e-14  4e-13\n",
      " 3: -3.8395e+04 -3.9933e+04  2e+03  3e-13  3e-13\n",
      " 4: -3.8623e+04 -3.9417e+04  8e+02  2e-13  3e-13\n",
      " 5: -3.8819e+04 -3.9045e+04  2e+02  1e-13  3e-13\n",
      " 6: -3.8867e+04 -3.8973e+04  1e+02  1e-13  3e-13\n",
      " 7: -3.8902e+04 -3.8928e+04  3e+01  9e-14  3e-13\n",
      " 8: -3.8913e+04 -3.8915e+04  3e+00  2e-13  3e-13\n",
      " 9: -3.8914e+04 -3.8914e+04  3e-02  3e-14  4e-13\n",
      "Optimal solution found.\n",
      "     pcost       dcost       gap    pres   dres\n",
      " 0: -2.4675e+04 -6.2526e+05  6e+05  9e-14  3e-13\n",
      " 1: -2.6801e+04 -5.4631e+04  3e+04  5e-13  2e-13\n",
      " 2: -4.6351e+04 -5.1051e+04  5e+03  1e-12  4e-13\n",
      " 3: -4.6880e+04 -4.8062e+04  1e+03  8e-13  4e-13\n",
      " 4: -4.6987e+04 -4.7023e+04  4e+01  3e-13  5e-13\n",
      " 5: -4.7000e+04 -4.7000e+04  4e-01  6e-13  4e-13\n",
      " 6: -4.7000e+04 -4.7000e+04  4e-03  5e-13  4e-13\n",
      "Optimal solution found.\n",
      "     pcost       dcost       gap    pres   dres\n",
      " 0: -3.0272e+04 -2.4520e+05  2e+05  9e-14  4e-13\n",
      " 1: -3.7555e+04 -6.1738e+04  2e+04  2e-13  3e-13\n",
      " 2: -5.8287e+04 -6.1173e+04  3e+03  7e-13  5e-13\n",
      " 3: -5.8804e+04 -6.0323e+04  2e+03  2e-13  4e-13\n",
      " 4: -5.9022e+04 -6.0020e+04  1e+03  1e-12  5e-13\n",
      " 5: -5.9277e+04 -5.9693e+04  4e+02  1e-12  5e-13\n",
      " 6: -5.9292e+04 -5.9684e+04  4e+02  2e-12  4e-13\n",
      " 7: -5.9392e+04 -5.9566e+04  2e+02  1e-12  4e-13\n",
      " 8: -5.9445e+04 -5.9506e+04  6e+01  6e-14  5e-13\n",
      " 9: -5.9461e+04 -5.9487e+04  3e+01  5e-13  5e-13\n",
      "10: -5.9472e+04 -5.9476e+04  4e+00  1e-12  5e-13\n",
      "11: -5.9474e+04 -5.9474e+04  5e-02  3e-13  5e-13\n",
      "Optimal solution found.\n",
      "     pcost       dcost       gap    pres   dres\n",
      " 0: -3.4956e+04 -6.6443e+05  6e+05  1e-12  4e-13\n",
      " 1: -3.8603e+04 -7.4925e+04  4e+04  2e-13  3e-13\n",
      " 2: -6.2483e+04 -7.2327e+04  1e+04  1e-12  5e-13\n",
      " 3: -6.6083e+04 -6.8677e+04  3e+03  9e-13  5e-13\n",
      " 4: -6.7193e+04 -6.7567e+04  4e+02  4e-13  6e-13\n",
      " 5: -6.7212e+04 -6.7558e+04  3e+02  8e-13  6e-13\n",
      " 6: -6.7291e+04 -6.7470e+04  2e+02  6e-14  5e-13\n",
      " 7: -6.7329e+04 -6.7426e+04  1e+02  3e-13  6e-13\n",
      " 8: -6.7342e+04 -6.7410e+04  7e+01  1e-12  5e-13\n",
      " 9: -6.7343e+04 -6.7409e+04  7e+01  1e-12  5e-13\n",
      "10: -6.7372e+04 -6.7379e+04  7e+00  2e-16  6e-13\n",
      "11: -6.7375e+04 -6.7375e+04  3e-01  3e-14  6e-13\n",
      "12: -6.7375e+04 -6.7375e+04  3e-03  8e-13  6e-13\n",
      "Optimal solution found.\n",
      "     pcost       dcost       gap    pres   dres\n",
      " 0: -4.0129e+04 -6.4973e+05  6e+05  6e-14  4e-13\n",
      " 1: -4.4704e+04 -8.4356e+04  4e+04  1e-16  3e-13\n",
      " 2: -7.3600e+04 -8.1361e+04  8e+03  2e-12  5e-13\n",
      " 3: -7.4707e+04 -7.5062e+04  4e+02  2e-12  5e-13\n",
      " 4: -7.4799e+04 -7.4803e+04  4e+00  4e-13  5e-13\n",
      " 5: -7.4800e+04 -7.4800e+04  4e-02  2e-12  5e-13\n",
      "Optimal solution found.\n"
     ]
    },
    {
     "data": {
      "text/plain": [
       "(16.092300415039062,\n",
       " array([[2.09504458e-04, 5.32539164e-05]]),\n",
       " array([-1.00014498]))"
      ]
     },
     "execution_count": 312,
     "metadata": {},
     "output_type": "execute_result"
    }
   ],
   "source": [
    "mySVM(d1,c1)\n",
    "skSvm(d1,c1)\n",
    "\n",
    "mySVM(d2,c2)\n",
    "skSvm(d2,c2)\n",
    "\n",
    "mySVM(d3,c3)\n",
    "skSvm(d3,c3)\n",
    "\n",
    "mySVM(d4,c4)\n",
    "skSvm(d4,c4)\n",
    "\n",
    "mySVM(d5,c5)\n",
    "skSvm(d5,c5)\n",
    "\n",
    "mySVM(d6,c6)\n",
    "skSvm(d6,c6)\n",
    "\n",
    "mySVM(d7,c7)\n",
    "skSvm(d7,c7)\n",
    "\n",
    "mySVM(d8,c8)\n",
    "skSvm(d8,c8)"
   ]
  },
  {
   "cell_type": "code",
   "execution_count": 313,
   "metadata": {},
   "outputs": [],
   "source": [
    "sK_sizeNtimes=np.array(sK_sizeNtimes)\n",
    "my_sizeNtimes=np.array(my_sizeNtimes)"
   ]
  },
  {
   "cell_type": "code",
   "execution_count": 323,
   "metadata": {},
   "outputs": [
    {
     "data": {
      "text/plain": [
       "Text(0.5, 1.0, 'Time complexity comparison of SVM methods')"
      ]
     },
     "execution_count": 323,
     "metadata": {},
     "output_type": "execute_result"
    },
    {
     "data": {
      "image/png": "[encoded data removed]",
      "text/plain": [
       "<Figure size 640x480 with 1 Axes>"
      ]
     },
     "metadata": {},
     "output_type": "display_data"
    }
   ],
   "source": [
    "plt.plot(sK_sizeNtimes.T[0], sK_sizeNtimes.T[1],marker='o',label='SVO_SVM')\n",
    "plt.plot(my_sizeNtimes.T[0], my_sizeNtimes.T[1],marker='o',label='my_SVM')\n",
    "\n",
    "plt.ylim(0,300)\n",
    "plt.xlim(100,800)\n",
    "\n",
    "plt.xlabel('No. Samples')\n",
    "plt.ylabel('Time (ms)')\n",
    "\n",
    "plt.legend(loc=\"upper left\")\n",
    "plt.title('Time complexity comparison of SVM methods')"
   ]
  }
 ],
 "metadata": {
  "kernelspec": {
   "display_name": "Python 3",
   "language": "python",
   "name": "python3"
  },
  "language_info": {
   "codemirror_mode": {
    "name": "ipython",
    "version": 3
   },
   "file_extension": ".py",
   "mimetype": "text/x-python",
   "name": "python",
   "nbconvert_exporter": "python",
   "pygments_lexer": "ipython3",
   "version": "3.12.1"
  }
 },
 "nbformat": 4,
 "nbformat_minor": 2
}
