{
 "cells": [
  {
   "cell_type": "code",
   "execution_count": 40,
   "metadata": {},
   "outputs": [],
   "source": [
    "import numpy as np\n",
    "from matplotlib import pyplot as plt\n",
    "import time\n",
    "\n",
    "from sklearn.svm import SVC\n",
    "from cvxopt import matrix as cvxopt_matrix\n",
    "from cvxopt import solvers as cvxopt_solvers"
   ]
  },
  {
   "cell_type": "code",
   "execution_count": 41,
   "metadata": {},
   "outputs": [],
   "source": [
    "my_sizeNtimes=[]\n",
    "sK_sizeNtimes=[]\n",
    "d1=np.random.rand(100,2)\n",
    "d2=np.random.rand(800,2)\n",
    "d3=np.random.rand(2000,2)\n",
    "d4=np.random.rand(5000,2)"
   ]
  },
  {
   "cell_type": "code",
   "execution_count": 42,
   "metadata": {},
   "outputs": [],
   "source": [
    "c1=np.random.choice([-1,1],d1.shape[0]).reshape(-1,1)\n",
    "c2=np.random.choice([-1,1],d2.shape[0]).reshape(-1,1)\n",
    "c3=np.random.choice([-1,1],d3.shape[0]).reshape(-1,1)\n",
    "c4=np.random.choice([-1,1],d4.shape[0]).reshape(-1,1)\n"
   ]
  },
  {
   "cell_type": "code",
   "execution_count": 43,
   "metadata": {},
   "outputs": [],
   "source": [
    "# hard-coded SVM\n",
    "def mySVM(X,y):    \n",
    "    C = 100\n",
    "    m,n = X.shape\n",
    "    Xy = y * X\n",
    "    H = np.dot(Xy , Xy.T)\n",
    "\n",
    "    P = cvxopt_matrix(H)\n",
    "    q = cvxopt_matrix(-np.ones((m, 1)))\n",
    "    G = cvxopt_matrix(np.vstack((np.eye(m)*-1,np.eye(m))))\n",
    "    h = cvxopt_matrix(np.hstack((np.zeros(m), np.ones(m) * C)))\n",
    "    A = cvxopt_matrix(y.T*1.0)\n",
    "    b = cvxopt_matrix(np.zeros(1))\n",
    "    \n",
    "    start=time.time()\n",
    "    sol = cvxopt_solvers.qp(P, q, G, h, A, b)\n",
    "    end=time.time()\n",
    "\n",
    "    lambdas = np.array(sol['x'])\n",
    "    w = np.matmul((y * lambdas).T,X).reshape(-1,1)\n",
    "    Sv = ((lambdas>0.09999) ).flatten()\n",
    "    w0 = np.mean(y[Sv] - np.dot(X[Sv], w))\n",
    "    my_sizeNtimes.append([X.shape[0],(end-start)*10**3])\n",
    "    return((end-start)*10**3, w, w0 )\n"
   ]
  },
  {
   "cell_type": "code",
   "execution_count": 44,
   "metadata": {},
   "outputs": [],
   "source": [
    "#sklearn SVM\n",
    "def skSvm(X,y):\n",
    "    starts = time.time()\n",
    "    model = SVC(C = 100, kernel = 'linear')\n",
    "    model.fit(X, y.reshape(-1)) \n",
    "    ends = time.time()\n",
    "    sK_sizeNtimes.append([X.shape[0],(ends-starts)*10**3])\n",
    "\n",
    "    return((ends-starts)*10**3 ,model.coef_, model.intercept_)\n"
   ]
  },
  {
   "cell_type": "code",
   "execution_count": 45,
   "metadata": {},
   "outputs": [
    {
     "name": "stdout",
     "output_type": "stream",
     "text": [
      "     pcost       dcost       gap    pres   dres\n",
      " 0: -4.2667e+03 -1.2150e+05  1e+05  6e-14  8e-14\n",
      " 1: -5.3203e+03 -1.0965e+04  6e+03  2e-13  9e-14\n",
      " 2: -8.9069e+03 -1.0122e+04  1e+03  3e-13  1e-13\n",
      " 3: -9.2004e+03 -9.5008e+03  3e+02  2e-13  1e-13\n",
      " 4: -9.2874e+03 -9.3436e+03  6e+01  3e-13  2e-13\n",
      " 5: -9.3087e+03 -9.3121e+03  3e+00  3e-13  2e-13\n",
      " 6: -9.3101e+03 -9.3101e+03  4e-02  3e-13  1e-13\n",
      " 7: -9.3101e+03 -9.3101e+03  4e-04  6e-13  1e-13\n",
      "Optimal solution found.\n",
      "     pcost       dcost       gap    pres   dres\n",
      " 0: -3.9958e+04 -6.6405e+05  6e+05  5e-13  5e-13\n",
      " 1: -4.4707e+04 -8.4622e+04  4e+04  1e-12  4e-13\n",
      " 2: -7.5037e+04 -8.1946e+04  7e+03  9e-13  9e-13\n",
      " 3: -7.6225e+04 -7.8297e+04  2e+03  4e-13  8e-13\n",
      " 4: -7.6795e+04 -7.7159e+04  4e+02  2e-13  8e-13\n",
      " 5: -7.6933e+04 -7.6992e+04  6e+01  1e-13  8e-13\n",
      " 6: -7.6951e+04 -7.6971e+04  2e+01  7e-13  8e-13\n",
      " 7: -7.6959e+04 -7.6962e+04  3e+00  6e-13  9e-13\n",
      " 8: -7.6960e+04 -7.6961e+04  3e-01  2e-12  9e-13\n",
      " 9: -7.6960e+04 -7.6960e+04  4e-03  1e-12  8e-13\n",
      "Optimal solution found.\n",
      "     pcost       dcost       gap    pres   dres\n",
      " 0: -1.0096e+05 -7.8774e+05  7e+05  1e-12  1e-12\n",
      " 1: -1.2618e+05 -2.0557e+05  8e+04  2e-12  9e-13\n",
      " 2: -1.9463e+05 -2.0381e+05  9e+03  2e-12  1e-12\n",
      " 3: -1.9614e+05 -2.0134e+05  5e+03  2e-12  1e-12\n",
      " 4: -1.9626e+05 -2.0119e+05  5e+03  9e-13  1e-12\n",
      " 5: -1.9690e+05 -2.0036e+05  3e+03  2e-12  1e-12\n",
      " 6: -1.9756e+05 -1.9943e+05  2e+03  1e-12  1e-12\n",
      " 7: -1.9805e+05 -1.9861e+05  6e+02  3e-12  1e-12\n",
      " 8: -1.9820e+05 -1.9821e+05  1e+01  1e-12  2e-12\n",
      " 9: -1.9820e+05 -1.9820e+05  1e-01  9e-13  2e-12\n",
      "Optimal solution found.\n"
     ]
    },
    {
     "data": {
      "text/plain": [
       "(66.51473045349121, array([[-0.00023851, -0.00102268]]), array([1.00033644]))"
      ]
     },
     "execution_count": 45,
     "metadata": {},
     "output_type": "execute_result"
    }
   ],
   "source": [
    "mySVM(d1,c1)\n",
    "skSvm(d1,c1)\n",
    "\n",
    "mySVM(d2,c2)\n",
    "skSvm(d2,c2)\n",
    "\n",
    "mySVM(d3,c3)\n",
    "skSvm(d3,c3)\n",
    "\n",
    "# mySVM(d4,c4)\n",
    "# skSvm(d4,c4)\n"
   ]
  },
  {
   "cell_type": "code",
   "execution_count": 46,
   "metadata": {},
   "outputs": [
    {
     "data": {
      "text/plain": [
       "[[100, 0.0], [800, 16.15738868713379], [2000, 66.51473045349121]]"
      ]
     },
     "execution_count": 46,
     "metadata": {},
     "output_type": "execute_result"
    }
   ],
   "source": [
    "sK_sizeNtimes"
   ]
  },
  {
   "cell_type": "code",
   "execution_count": 47,
   "metadata": {},
   "outputs": [],
   "source": [
    "# what if no optimal solution found? in cvxopt"
   ]
  }
 ],
 "metadata": {
  "kernelspec": {
   "display_name": "Python 3",
   "language": "python",
   "name": "python3"
  },
  "language_info": {
   "codemirror_mode": {
    "name": "ipython",
    "version": 3
   },
   "file_extension": ".py",
   "mimetype": "text/x-python",
   "name": "python",
   "nbconvert_exporter": "python",
   "pygments_lexer": "ipython3",
   "version": "3.12.1"
  }
 },
 "nbformat": 4,
 "nbformat_minor": 2
}
