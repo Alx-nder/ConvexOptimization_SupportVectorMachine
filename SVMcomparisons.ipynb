{
 "cells": [
  {
   "cell_type": "code",
   "execution_count": 295,
   "metadata": {},
   "outputs": [],
   "source": [
    "import numpy as np\n",
    "from matplotlib import pyplot as plt\n",
    "import time\n",
    "\n",
    "from sklearn.svm import SVC\n",
    "from cvxopt import matrix as cvxopt_matrix\n",
    "from cvxopt import solvers as cvxopt_solvers"
   ]
  },
  {
   "cell_type": "code",
   "execution_count": 296,
   "metadata": {},
   "outputs": [],
   "source": [
    "my_sizeNtimes=[]\n",
    "sK_sizeNtimes=[]\n",
    "d1=np.random.rand(100,2)\n",
    "d2=np.random.rand(200,2)\n",
    "d3=np.random.rand(300,2)\n",
    "d4=np.random.rand(400,2)\n",
    "d5=np.random.rand(500,2)\n",
    "d6=np.random.rand(600,2)\n",
    "d7=np.random.rand(700,2)\n",
    "d8=np.random.rand(800,2)"
   ]
  },
  {
   "cell_type": "code",
   "execution_count": 297,
   "metadata": {},
   "outputs": [],
   "source": [
    "c1=np.random.choice([-1,1],d1.shape[0]).reshape(-1,1)\n",
    "c2=np.random.choice([-1,1],d2.shape[0]).reshape(-1,1)\n",
    "c3=np.random.choice([-1,1],d3.shape[0]).reshape(-1,1)\n",
    "c4=np.random.choice([-1,1],d4.shape[0]).reshape(-1,1)\n",
    "c5=np.random.choice([-1,1],d5.shape[0]).reshape(-1,1)\n",
    "c6=np.random.choice([-1,1],d6.shape[0]).reshape(-1,1)\n",
    "c7=np.random.choice([-1,1],d7.shape[0]).reshape(-1,1)\n",
    "c8=np.random.choice([-1,1],d8.shape[0]).reshape(-1,1)\n",
    "\n"
   ]
  },
  {
   "cell_type": "code",
   "execution_count": 298,
   "metadata": {},
   "outputs": [],
   "source": [
    "# hard-coded SVM\n",
    "def mySVM(X,y):    \n",
    "    C = 100\n",
    "    m,n = X.shape\n",
    "    Xy = y * X\n",
    "    H = np.dot(Xy , Xy.T)\n",
    "\n",
    "    P = cvxopt_matrix(H)\n",
    "    q = cvxopt_matrix(-np.ones((m, 1)))\n",
    "    G = cvxopt_matrix(np.vstack((np.eye(m)*-1,np.eye(m))))\n",
    "    h = cvxopt_matrix(np.hstack((np.zeros(m), np.ones(m) * C)))\n",
    "    A = cvxopt_matrix(y.T*1.0)\n",
    "    b = cvxopt_matrix(np.zeros(1))\n",
    "    \n",
    "    start=time.time()\n",
    "    sol = cvxopt_solvers.qp(P, q, G, h, A, b)\n",
    "    end=time.time()\n",
    "\n",
    "    lambdas = np.array(sol['x'])\n",
    "    w = np.matmul((y * lambdas).T,X).reshape(-1,1)\n",
    "    Sv = ((lambdas>0.09999) ).flatten()\n",
    "    w0 = np.mean(y[Sv] - np.dot(X[Sv], w))\n",
    "    my_sizeNtimes.append([X.shape[0],(end-start)*10**3])\n",
    "    return((end-start)*10**3, w, w0 )\n"
   ]
  },
  {
   "cell_type": "code",
   "execution_count": 299,
   "metadata": {},
   "outputs": [],
   "source": [
    "#sklearn SVM\n",
    "def skSvm(X,y):\n",
    "    starts = time.time()\n",
    "    model = SVC(C = 100, kernel = 'linear')\n",
    "    model.fit(X, y.reshape(-1)) \n",
    "    ends = time.time()\n",
    "    sK_sizeNtimes.append([X.shape[0],(ends-starts)*10**3])\n",
    "\n",
    "    return((ends-starts)*10**3 ,model.coef_, model.intercept_)\n"
   ]
  },
  {
   "cell_type": "code",
   "execution_count": 300,
   "metadata": {},
   "outputs": [
    {
     "name": "stdout",
     "output_type": "stream",
     "text": [
      "     pcost       dcost       gap    pres   dres\n",
      " 0: -2.5543e+03 -2.0426e+05  2e+05  4e-14  7e-14\n",
      " 1: -4.9319e+03 -1.2252e+04  7e+03  2e-14  4e-14\n",
      " 2: -7.8368e+03 -9.2334e+03  1e+03  3e-14  7e-14\n",
      " 3: -8.2749e+03 -8.7858e+03  5e+02  2e-13  6e-14\n",
      " 4: -8.4258e+03 -8.6215e+03  2e+02  3e-13  7e-14\n",
      " 5: -8.4981e+03 -8.5467e+03  5e+01  2e-13  7e-14\n",
      " 6: -8.5197e+03 -8.5244e+03  5e+00  1e-13  7e-14\n",
      " 7: -8.5219e+03 -8.5220e+03  1e-01  1e-13  7e-14\n",
      " 8: -8.5220e+03 -8.5220e+03  1e-03  6e-14  9e-14\n",
      "Optimal solution found.\n",
      "     pcost       dcost       gap    pres   dres\n",
      " 0: -9.6686e+03 -2.4519e+05  2e+05  2e-13  1e-13\n",
      " 1: -1.0747e+04 -2.1913e+04  1e+04  4e-13  1e-13\n",
      " 2: -1.8170e+04 -2.0554e+04  2e+03  1e-13  2e-13\n",
      " 3: -1.8780e+04 -1.9467e+04  7e+02  6e-14  2e-13\n",
      " 4: -1.8919e+04 -1.9202e+04  3e+02  6e-14  2e-13\n",
      " 5: -1.8993e+04 -1.9088e+04  1e+02  6e-14  2e-13\n",
      " 6: -1.9030e+04 -1.9038e+04  8e+00  2e-13  2e-13\n",
      " 7: -1.9034e+04 -1.9034e+04  8e-02  5e-13  2e-13\n",
      " 8: -1.9034e+04 -1.9034e+04  8e-04  3e-13  2e-13\n",
      "Optimal solution found.\n",
      "     pcost       dcost       gap    pres   dres\n",
      " 0: -1.4902e+04 -2.5021e+05  2e+05  1e-13  2e-13\n",
      " 1: -1.6779e+04 -3.1830e+04  2e+04  5e-13  1e-13\n",
      " 2: -2.6738e+04 -3.1042e+04  4e+03  1e-13  2e-13\n",
      " 3: -2.8580e+04 -2.9546e+04  1e+03  1e-13  2e-13\n",
      " 4: -2.8924e+04 -2.9268e+04  3e+02  5e-13  2e-13\n",
      " 5: -2.9064e+04 -2.9123e+04  6e+01  2e-16  2e-13\n",
      " 6: -2.9088e+04 -2.9098e+04  1e+01  3e-13  2e-13\n",
      " 7: -2.9093e+04 -2.9093e+04  2e-01  9e-14  2e-13\n",
      " 8: -2.9093e+04 -2.9093e+04  2e-03  3e-13  2e-13\n",
      "Optimal solution found.\n",
      "     pcost       dcost       gap    pres   dres\n",
      " 0: -2.0171e+04 -1.7732e+05  2e+05  2e-13  3e-13\n",
      " 1: -2.4623e+04 -4.1260e+04  2e+04  1e-13  2e-13\n",
      " 2: -3.8716e+04 -4.0823e+04  2e+03  6e-14  3e-13\n",
      " 3: -3.9115e+04 -4.0021e+04  9e+02  2e-16  3e-13\n",
      " 4: -3.9272e+04 -3.9684e+04  4e+02  2e-13  3e-13\n",
      " 5: -3.9395e+04 -3.9427e+04  3e+01  3e-13  3e-13\n",
      " 6: -3.9400e+04 -3.9400e+04  3e-01  3e-13  3e-13\n",
      " 7: -3.9400e+04 -3.9400e+04  3e-03  7e-13  3e-13\n",
      "Optimal solution found.\n",
      "     pcost       dcost       gap    pres   dres\n",
      " 0: -2.5082e+04 -3.5077e+05  3e+05  1e-13  3e-13\n",
      " 1: -2.8612e+04 -5.2619e+04  2e+04  3e-14  2e-13\n",
      " 2: -4.7663e+04 -5.1580e+04  4e+03  3e-14  4e-13\n",
      " 3: -4.8156e+04 -5.0108e+04  2e+03  1e-13  3e-13\n",
      " 4: -4.8525e+04 -4.9330e+04  8e+02  5e-13  3e-13\n",
      " 5: -4.8697e+04 -4.9038e+04  3e+02  3e-13  3e-13\n",
      " 6: -4.8786e+04 -4.8894e+04  1e+02  5e-13  3e-13\n",
      " 7: -4.8818e+04 -4.8846e+04  3e+01  2e-13  3e-13\n",
      " 8: -4.8828e+04 -4.8833e+04  5e+00  1e-13  3e-13\n",
      " 9: -4.8830e+04 -4.8831e+04  8e-01  3e-13  4e-13\n",
      "10: -4.8830e+04 -4.8830e+04  2e-02  2e-13  4e-13\n",
      "Optimal solution found.\n",
      "     pcost       dcost       gap    pres   dres\n",
      " 0: -2.9319e+04 -7.9033e+05  8e+05  2e-13  4e-13\n",
      " 1: -3.1962e+04 -6.5890e+04  3e+04  5e-13  3e-13\n",
      " 2: -5.4315e+04 -6.0922e+04  7e+03  2e-13  6e-13\n",
      " 3: -5.5491e+04 -5.7362e+04  2e+03  1e-13  6e-13\n",
      " 4: -5.5872e+04 -5.6588e+04  7e+02  1e-12  5e-13\n",
      " 5: -5.6045e+04 -5.6299e+04  3e+02  1e-12  5e-13\n",
      " 6: -5.6119e+04 -5.6186e+04  7e+01  4e-13  6e-13\n",
      " 7: -5.6141e+04 -5.6152e+04  1e+01  3e-13  6e-13\n",
      " 8: -5.6146e+04 -5.6147e+04  2e+00  2e-13  6e-13\n",
      " 9: -5.6146e+04 -5.6146e+04  2e-02  6e-13  6e-13\n",
      "Optimal solution found.\n",
      "     pcost       dcost       gap    pres   dres\n",
      " 0: -3.4867e+04 -8.0005e+05  8e+05  6e-13  4e-13\n",
      " 1: -3.7906e+04 -7.6083e+04  4e+04  1e-12  4e-13\n",
      " 2: -6.4942e+04 -7.2191e+04  7e+03  2e-13  6e-13\n",
      " 3: -6.5689e+04 -6.6810e+04  1e+03  2e-13  6e-13\n",
      " 4: -6.5996e+04 -6.6016e+04  2e+01  6e-13  6e-13\n",
      " 5: -6.6000e+04 -6.6000e+04  2e-01  4e-13  6e-13\n",
      " 6: -6.6000e+04 -6.6000e+04  2e-03  4e-13  6e-13\n",
      "Optimal solution found.\n",
      "     pcost       dcost       gap    pres   dres\n",
      " 0: -4.0191e+04 -5.3150e+05  5e+05  7e-13  5e-13\n",
      " 1: -4.6029e+04 -8.3698e+04  4e+04  3e-13  3e-13\n",
      " 2: -7.6128e+04 -8.1999e+04  6e+03  1e-12  6e-13\n",
      " 3: -7.7120e+04 -7.8756e+04  2e+03  3e-13  5e-13\n",
      " 4: -7.7159e+04 -7.8667e+04  2e+03  2e-12  5e-13\n",
      " 5: -7.7474e+04 -7.8088e+04  6e+02  1e-12  5e-13\n",
      " 6: -7.7585e+04 -7.7926e+04  3e+02  3e-12  5e-13\n",
      " 7: -7.7689e+04 -7.7796e+04  1e+02  1e-12  6e-13\n",
      " 8: -7.7727e+04 -7.7754e+04  3e+01  9e-14  6e-13\n",
      " 9: -7.7735e+04 -7.7744e+04  9e+00  9e-13  6e-13\n",
      "10: -7.7739e+04 -7.7741e+04  3e+00  2e-12  6e-13\n",
      "11: -7.7740e+04 -7.7740e+04  5e-02  1e-12  7e-13\n",
      "Optimal solution found.\n"
     ]
    },
    {
     "data": {
      "text/plain": [
       "(0.0, array([[-2.12194706e+00,  1.33140313e-03]]), array([1.07847804]))"
      ]
     },
     "execution_count": 300,
     "metadata": {},
     "output_type": "execute_result"
    }
   ],
   "source": [
    "mySVM(d1,c1)\n",
    "skSvm(d1,c1)\n",
    "\n",
    "mySVM(d2,c2)\n",
    "skSvm(d2,c2)\n",
    "\n",
    "mySVM(d3,c3)\n",
    "skSvm(d3,c3)\n",
    "\n",
    "mySVM(d4,c4)\n",
    "skSvm(d4,c4)\n",
    "\n",
    "mySVM(d5,c5)\n",
    "skSvm(d5,c5)\n",
    "\n",
    "mySVM(d6,c6)\n",
    "skSvm(d6,c6)\n",
    "\n",
    "mySVM(d7,c7)\n",
    "skSvm(d7,c7)\n",
    "\n",
    "mySVM(d8,c8)\n",
    "skSvm(d8,c8)"
   ]
  },
  {
   "cell_type": "code",
   "execution_count": 301,
   "metadata": {},
   "outputs": [],
   "source": [
    "sK_sizeNtimes=np.array(sK_sizeNtimes)\n",
    "my_sizeNtimes=np.array(my_sizeNtimes)"
   ]
  },
  {
   "cell_type": "code",
   "execution_count": 306,
   "metadata": {},
   "outputs": [
    {
     "data": {
      "text/plain": [
       "(0.0, 800.0)"
      ]
     },
     "execution_count": 306,
     "metadata": {},
     "output_type": "execute_result"
    },
    {
     "data": {
      "image/png": "[encoded data removed]",
      "text/plain": [
       "<Figure size 640x480 with 1 Axes>"
      ]
     },
     "metadata": {},
     "output_type": "display_data"
    }
   ],
   "source": [
    "plt.plot(sK_sizeNtimes.T[0], sK_sizeNtimes.T[1],marker='o')\n",
    "plt.plot(my_sizeNtimes.T[0], my_sizeNtimes.T[1],marker='o')\n",
    "\n",
    "plt.ylim(0,300)\n",
    "plt.xlim(0,800)\n"
   ]
  },
  {
   "cell_type": "code",
   "execution_count": 303,
   "metadata": {},
   "outputs": [],
   "source": [
    "# what if no optimal solution found? in cvxopt"
   ]
  }
 ],
 "metadata": {
  "kernelspec": {
   "display_name": "Python 3",
   "language": "python",
   "name": "python3"
  },
  "language_info": {
   "codemirror_mode": {
    "name": "ipython",
    "version": 3
   },
   "file_extension": ".py",
   "mimetype": "text/x-python",
   "name": "python",
   "nbconvert_exporter": "python",
   "pygments_lexer": "ipython3",
   "version": "3.12.1"
  }
 },
 "nbformat": 4,
 "nbformat_minor": 2
}
