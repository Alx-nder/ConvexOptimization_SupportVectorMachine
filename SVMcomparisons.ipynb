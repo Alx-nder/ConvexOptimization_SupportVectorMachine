{
 "cells": [
  {
   "cell_type": "code",
   "execution_count": 236,
   "metadata": {},
   "outputs": [],
   "source": [
    "import numpy as np\n",
    "from matplotlib import pyplot as plt\n",
    "import time\n",
    "\n",
    "\n",
    "from sklearn.svm import SVC\n",
    "from cvxopt import matrix as cvxopt_matrix\n",
    "from cvxopt import solvers as cvxopt_solvers"
   ]
  },
  {
   "cell_type": "code",
   "execution_count": 237,
   "metadata": {},
   "outputs": [],
   "source": [
    "d50=np.random.rand(500,2)\n",
    "d200=np.random.rand(2000,2)\n",
    "d500=np.random.rand(5000,2)\n",
    "d1000=np.random.rand(10000,2)"
   ]
  },
  {
   "cell_type": "code",
   "execution_count": 238,
   "metadata": {},
   "outputs": [],
   "source": [
    "c50=np.random.choice([-1,1],500).reshape(-1,1)\n",
    "c200=np.random.choice([-1,1],2000).reshape(-1,1)\n",
    "c500=np.random.choice([-1,1],5000).reshape(-1,1)\n",
    "c1000=np.random.choice([-1,1],10000).reshape(-1,1)\n"
   ]
  },
  {
   "cell_type": "code",
   "execution_count": 239,
   "metadata": {},
   "outputs": [],
   "source": [
    "# hard-coded SVM\n",
    "def mySVM(X,y):    \n",
    "    C = 100\n",
    "    m,n = X.shape\n",
    "    Xy = y * X\n",
    "    H = np.dot(Xy , Xy.T)\n",
    "\n",
    "    P = cvxopt_matrix(H)\n",
    "    q = cvxopt_matrix(-np.ones((m, 1)))\n",
    "    G = cvxopt_matrix(np.vstack((np.eye(m)*-1,np.eye(m))))\n",
    "    h = cvxopt_matrix(np.hstack((np.zeros(m), np.ones(m) * C)))\n",
    "    A = cvxopt_matrix(y.T*1.0)\n",
    "    b = cvxopt_matrix(np.zeros(1))\n",
    "    \n",
    "    start=time.time()\n",
    "    sol = cvxopt_solvers.qp(P, q, G, h, A, b)\n",
    "    end=time.time()\n",
    "\n",
    "    lambdas = np.array(sol['x'])\n",
    "    w = ((y * lambdas).T @ X).reshape(-1,1)\n",
    "    Sv = ((lambdas>0.09999) ).flatten()\n",
    "    w0 = np.mean(y[Sv] - np.dot(X[Sv], w))\n",
    "    return((end-start)*10**3, w, w0 )\n"
   ]
  },
  {
   "cell_type": "code",
   "execution_count": 240,
   "metadata": {},
   "outputs": [],
   "source": [
    "#sklearn SVM\n",
    "def skSvm(X,y):\n",
    "    starts = time.time()\n",
    "    model = SVC(C = 100, kernel = 'linear')\n",
    "    model.fit(X, y.reshape(-1)) \n",
    "    ends = time.time()\n",
    "    return((ends-starts)*10**3 ,model.coef_, model.intercept_)\n"
   ]
  },
  {
   "cell_type": "code",
   "execution_count": 241,
   "metadata": {},
   "outputs": [
    {
     "name": "stdout",
     "output_type": "stream",
     "text": [
      "     pcost       dcost       gap    pres   dres\n",
      " 0: -2.4410e+04 -6.6873e+05  6e+05  1e-13  3e-13\n",
      " 1: -2.6559e+04 -5.4797e+04  3e+04  6e-14  2e-13\n",
      " 2: -4.5717e+04 -5.0742e+04  5e+03  9e-13  5e-13\n",
      " 3: -4.6669e+04 -4.7480e+04  8e+02  4e-13  4e-13\n",
      " 4: -4.6882e+04 -4.7050e+04  2e+02  2e-13  4e-13\n",
      " 5: -4.6909e+04 -4.6993e+04  8e+01  2e-13  4e-13\n",
      " 6: -4.6926e+04 -4.6961e+04  4e+01  1e-13  4e-13\n",
      " 7: -4.6940e+04 -4.6943e+04  3e+00  6e-14  4e-13\n",
      " 8: -4.6942e+04 -4.6942e+04  2e-01  6e-14  4e-13\n",
      " 9: -4.6942e+04 -4.6942e+04  2e-03  5e-13  4e-13\n",
      "Optimal solution found.\n"
     ]
    },
    {
     "data": {
      "text/plain": [
       "(101.11451148986816,\n",
       " array([[-0.25068081],\n",
       "        [-2.10920014]]),\n",
       " 1.2729562951547935)"
      ]
     },
     "execution_count": 241,
     "metadata": {},
     "output_type": "execute_result"
    }
   ],
   "source": [
    "mySVM(d50,c50)"
   ]
  },
  {
   "cell_type": "code",
   "execution_count": 242,
   "metadata": {},
   "outputs": [
    {
     "data": {
      "text/plain": [
       "(7.896184921264648, array([[-0.2481787 , -2.11107778]]), array([1.31055879]))"
      ]
     },
     "execution_count": 242,
     "metadata": {},
     "output_type": "execute_result"
    }
   ],
   "source": [
    "skSvm(d50,c50)"
   ]
  },
  {
   "cell_type": "code",
   "execution_count": null,
   "metadata": {},
   "outputs": [],
   "source": [
    "plt"
   ]
  }
 ],
 "metadata": {
  "kernelspec": {
   "display_name": "Python 3",
   "language": "python",
   "name": "python3"
  },
  "language_info": {
   "codemirror_mode": {
    "name": "ipython",
    "version": 3
   },
   "file_extension": ".py",
   "mimetype": "text/x-python",
   "name": "python",
   "nbconvert_exporter": "python",
   "pygments_lexer": "ipython3",
   "version": "3.12.1"
  }
 },
 "nbformat": 4,
 "nbformat_minor": 2
}
