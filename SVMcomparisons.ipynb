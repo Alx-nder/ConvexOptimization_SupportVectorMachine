{
 "cells": [
  {
   "cell_type": "code",
   "execution_count": 155,
   "metadata": {},
   "outputs": [],
   "source": [
    "import numpy as np\n",
    "from matplotlib import pyplot as plt\n",
    "import time\n",
    "\n",
    "from sklearn.svm import SVC\n",
    "from cvxopt import matrix as cvxopt_matrix\n",
    "from cvxopt import solvers as cvxopt_solvers"
   ]
  },
  {
   "cell_type": "code",
   "execution_count": 156,
   "metadata": {},
   "outputs": [],
   "source": [
    "np.random.seed(0)"
   ]
  },
  {
   "cell_type": "code",
   "execution_count": 157,
   "metadata": {},
   "outputs": [],
   "source": [
    "my_sizeNtimes=[]\n",
    "sK_sizeNtimes=[]\n",
    "d1=np.random.rand(100,2)\n",
    "d2=np.random.rand(200,2)\n",
    "d3=np.random.rand(300,2)\n",
    "d4=np.random.rand(400,2)\n",
    "d5=np.random.rand(500,2)\n",
    "d6=np.random.rand(600,2)\n",
    "d7=np.random.rand(700,2)\n",
    "d8=np.random.rand(800,2)"
   ]
  },
  {
   "cell_type": "code",
   "execution_count": 158,
   "metadata": {},
   "outputs": [],
   "source": [
    "c1=np.random.choice([-1,1],d1.shape[0]).reshape(-1,1)\n",
    "c2=np.random.choice([-1,1],d2.shape[0]).reshape(-1,1)\n",
    "c3=np.random.choice([-1,1],d3.shape[0]).reshape(-1,1)\n",
    "c4=np.random.choice([-1,1],d4.shape[0]).reshape(-1,1)\n",
    "c5=np.random.choice([-1,1],d5.shape[0]).reshape(-1,1)\n",
    "c6=np.random.choice([-1,1],d6.shape[0]).reshape(-1,1)\n",
    "c7=np.random.choice([-1,1],d7.shape[0]).reshape(-1,1)\n",
    "c8=np.random.choice([-1,1],d8.shape[0]).reshape(-1,1)\n",
    "\n"
   ]
  },
  {
   "cell_type": "code",
   "execution_count": 159,
   "metadata": {},
   "outputs": [],
   "source": [
    "# hard-coded SVM\n",
    "def mySVM(X,y):    \n",
    "    C = 100\n",
    "    m,n = X.shape\n",
    "    Xy = y * X\n",
    "    H = np.dot(Xy , Xy.T)\n",
    "\n",
    "    P = cvxopt_matrix(H)\n",
    "    q = cvxopt_matrix(-np.ones((m, 1)))\n",
    "    G = cvxopt_matrix(np.vstack((np.eye(m)*-1,np.eye(m))))\n",
    "    h = cvxopt_matrix(np.hstack((np.zeros(m), np.ones(m) * C)))\n",
    "    A = cvxopt_matrix(y.T*1.0)\n",
    "    b = cvxopt_matrix(np.zeros(1))\n",
    "    \n",
    "    start=time.time()\n",
    "    sol = cvxopt_solvers.qp(P, q, G, h, A, b)\n",
    "    end=time.time()\n",
    "\n",
    "    lambdas = np.array(sol['x'])\n",
    "    w = np.matmul((y * lambdas).T,X).reshape(-1,1)\n",
    "    Sv = ((lambdas>0.09999) ).flatten()\n",
    "    w0 = np.mean(y[Sv] - np.dot(X[Sv], w))\n",
    "    my_sizeNtimes.append([X.shape[0],(end-start)*10**3])\n",
    "    return((end-start)*10**3, w, w0 )\n"
   ]
  },
  {
   "cell_type": "code",
   "execution_count": 160,
   "metadata": {},
   "outputs": [],
   "source": [
    "#sklearn SVM\n",
    "def skSvm(X,y):\n",
    "    starts = time.time()\n",
    "    model = SVC(C = 100, kernel = 'linear')\n",
    "    model.fit(X, y.reshape(-1)) \n",
    "    ends = time.time()\n",
    "    sK_sizeNtimes.append([X.shape[0],(ends-starts)*10**3])\n",
    "\n",
    "    return((ends-starts)*10**3 ,model.coef_, model.intercept_)\n"
   ]
  },
  {
   "cell_type": "code",
   "execution_count": 161,
   "metadata": {},
   "outputs": [
    {
     "name": "stdout",
     "output_type": "stream",
     "text": [
      "     pcost       dcost       gap    pres   dres\n",
      " 0: -4.7256e+03 -1.3450e+05  1e+05  2e-13  1e-13\n",
      " 1: -5.2570e+03 -1.1001e+04  6e+03  6e-14  1e-13\n",
      " 2: -8.3966e+03 -9.9508e+03  2e+03  4e-14  1e-13\n",
      " 3: -8.7835e+03 -8.8880e+03  1e+02  3e-13  2e-13\n",
      " 4: -8.7998e+03 -8.8009e+03  1e+00  2e-13  2e-13\n",
      " 5: -8.8000e+03 -8.8000e+03  1e-02  3e-13  2e-13\n",
      " 6: -8.8000e+03 -8.8000e+03  1e-04  3e-13  2e-13\n",
      "Optimal solution found.\n",
      "     pcost       dcost       gap    pres   dres\n",
      " 0: -7.8737e+03 -3.6584e+05  4e+05  5e-13  2e-13\n",
      " 1: -1.0076e+04 -2.2453e+04  1e+04  5e-13  1e-13\n",
      " 2: -1.6504e+04 -1.8692e+04  2e+03  6e-14  2e-13\n",
      " 3: -1.6932e+04 -1.7844e+04  9e+02  6e-13  2e-13\n",
      " 4: -1.7173e+04 -1.7433e+04  3e+02  6e-13  2e-13\n",
      " 5: -1.7235e+04 -1.7342e+04  1e+02  2e-13  1e-13\n",
      " 6: -1.7262e+04 -1.7300e+04  4e+01  3e-13  2e-13\n",
      " 7: -1.7271e+04 -1.7287e+04  2e+01  5e-13  2e-13\n",
      " 8: -1.7278e+04 -1.7279e+04  1e+00  3e-13  2e-13\n",
      " 9: -1.7278e+04 -1.7279e+04  2e-01  5e-13  2e-13\n",
      "10: -1.7278e+04 -1.7278e+04  3e-03  1e-13  2e-13\n",
      "Optimal solution found.\n",
      "     pcost       dcost       gap    pres   dres\n",
      " 0: -1.4928e+04 -2.7654e+05  3e+05  3e-13  2e-13\n",
      " 1: -1.6309e+04 -3.0869e+04  1e+04  2e-13  1e-13\n",
      " 2: -2.6146e+04 -2.8892e+04  3e+03  3e-13  2e-13\n",
      " 3: -2.6595e+04 -2.6639e+04  4e+01  6e-14  2e-13\n",
      " 4: -2.6600e+04 -2.6600e+04  4e-01  5e-13  2e-13\n",
      " 5: -2.6600e+04 -2.6600e+04  4e-03  6e-14  2e-13\n",
      "Optimal solution found.\n",
      "     pcost       dcost       gap    pres   dres\n",
      " 0: -1.8326e+04 -6.6622e+05  6e+05  3e-13  3e-13\n",
      " 1: -2.0587e+04 -4.4260e+04  2e+04  4e-13  2e-13\n",
      " 2: -3.4209e+04 -3.9017e+04  5e+03  9e-14  3e-13\n",
      " 3: -3.5328e+04 -3.6622e+04  1e+03  1e-13  2e-13\n",
      " 4: -3.5577e+04 -3.6207e+04  6e+02  2e-13  2e-13\n",
      " 5: -3.5744e+04 -3.5939e+04  2e+02  1e-13  3e-13\n",
      " 6: -3.5799e+04 -3.5858e+04  6e+01  2e-13  3e-13\n",
      " 7: -3.5813e+04 -3.5838e+04  2e+01  2e-13  2e-13\n",
      " 8: -3.5822e+04 -3.5827e+04  5e+00  9e-14  3e-13\n",
      " 9: -3.5824e+04 -3.5824e+04  4e-01  9e-14  3e-13\n",
      "10: -3.5824e+04 -3.5824e+04  5e-03  2e-16  3e-13\n",
      "Optimal solution found.\n",
      "     pcost       dcost       gap    pres   dres\n",
      " 0: -2.4702e+04 -5.6921e+05  5e+05  1e-13  3e-13\n",
      " 1: -2.6885e+04 -5.3802e+04  3e+04  1e-13  2e-13\n",
      " 2: -4.4205e+04 -5.0816e+04  7e+03  1e-12  4e-13\n",
      " 3: -4.5726e+04 -4.6269e+04  5e+02  3e-13  4e-13\n",
      " 4: -4.5799e+04 -4.5805e+04  6e+00  4e-13  4e-13\n",
      " 5: -4.5800e+04 -4.5800e+04  6e-02  2e-13  4e-13\n",
      " 6: -4.5800e+04 -4.5800e+04  6e-04  5e-13  4e-13\n",
      "Optimal solution found.\n",
      "     pcost       dcost       gap    pres   dres\n",
      " 0: -2.9636e+04 -5.9167e+05  6e+05  1e-13  3e-13\n",
      " 1: -3.2821e+04 -6.4037e+04  3e+04  8e-13  2e-13\n",
      " 2: -5.5441e+04 -6.1000e+04  6e+03  9e-13  4e-13\n",
      " 3: -5.6406e+04 -5.7831e+04  1e+03  4e-13  4e-13\n",
      " 4: -5.6708e+04 -5.7195e+04  5e+02  3e-13  3e-13\n",
      " 5: -5.6837e+04 -5.6971e+04  1e+02  1e-12  4e-13\n",
      " 6: -5.6884e+04 -5.6899e+04  1e+01  7e-13  4e-13\n",
      " 7: -5.6890e+04 -5.6892e+04  2e+00  3e-13  4e-13\n",
      " 8: -5.6891e+04 -5.6891e+04  2e-01  5e-13  4e-13\n",
      " 9: -5.6891e+04 -5.6891e+04  9e-03  1e-12  4e-13\n",
      "Optimal solution found.\n",
      "     pcost       dcost       gap    pres   dres\n",
      " 0: -3.4960e+04 -6.8748e+05  7e+05  6e-13  4e-13\n",
      " 1: -3.8555e+04 -7.5299e+04  4e+04  8e-13  3e-13\n",
      " 2: -6.2164e+04 -7.2813e+04  1e+04  3e-13  5e-13\n",
      " 3: -6.5860e+04 -6.9511e+04  4e+03  3e-13  5e-13\n",
      " 4: -6.6699e+04 -6.8714e+04  2e+03  9e-14  4e-13\n",
      " 5: -6.7263e+04 -6.8148e+04  9e+02  2e-13  4e-13\n",
      " 6: -6.7641e+04 -6.7780e+04  1e+02  1e-13  5e-13\n",
      " 7: -6.7694e+04 -6.7721e+04  3e+01  5e-13  5e-13\n",
      " 8: -6.7703e+04 -6.7712e+04  1e+01  7e-13  4e-13\n",
      " 9: -6.7706e+04 -6.7709e+04  3e+00  2e-12  5e-13\n",
      "10: -6.7707e+04 -6.7707e+04  8e-02  7e-13  5e-13\n",
      "11: -6.7707e+04 -6.7707e+04  8e-04  4e-13  5e-13\n",
      "Optimal solution found.\n",
      "     pcost       dcost       gap    pres   dres\n",
      " 0: -4.0299e+04 -4.7960e+05  4e+05  5e-13  5e-13\n",
      " 1: -4.6834e+04 -8.3576e+04  4e+04  1e-13  4e-13\n",
      " 2: -7.6691e+04 -8.2400e+04  6e+03  2e-12  8e-13\n",
      " 3: -7.7593e+04 -8.0410e+04  3e+03  5e-13  7e-13\n",
      " 4: -7.8171e+04 -7.9354e+04  1e+03  9e-13  7e-13\n",
      " 5: -7.8249e+04 -7.9224e+04  1e+03  8e-13  6e-13\n",
      " 6: -7.8413e+04 -7.8973e+04  6e+02  9e-13  6e-13\n",
      " 7: -7.8533e+04 -7.8797e+04  3e+02  4e-13  7e-13\n",
      " 8: -7.8599e+04 -7.8703e+04  1e+02  2e-12  8e-13\n",
      " 9: -7.8642e+04 -7.8657e+04  2e+01  1e-13  7e-13\n",
      "10: -7.8649e+04 -7.8650e+04  9e-01  2e-12  8e-13\n",
      "11: -7.8649e+04 -7.8649e+04  2e-02  2e-12  8e-13\n",
      "Optimal solution found.\n"
     ]
    },
    {
     "data": {
      "text/plain": [
       "(16.42584800720215, array([[1.98559285, 0.19452693]]), array([-1.11596467]))"
      ]
     },
     "execution_count": 161,
     "metadata": {},
     "output_type": "execute_result"
    }
   ],
   "source": [
    "mySVM(d1,c1)\n",
    "skSvm(d1,c1)\n",
    "\n",
    "mySVM(d2,c2)\n",
    "skSvm(d2,c2)\n",
    "\n",
    "mySVM(d3,c3)\n",
    "skSvm(d3,c3)\n",
    "\n",
    "mySVM(d4,c4)\n",
    "skSvm(d4,c4)\n",
    "\n",
    "mySVM(d5,c5)\n",
    "skSvm(d5,c5)\n",
    "\n",
    "mySVM(d6,c6)\n",
    "skSvm(d6,c6)\n",
    "\n",
    "mySVM(d7,c7)\n",
    "skSvm(d7,c7)\n",
    "\n",
    "mySVM(d8,c8)\n",
    "skSvm(d8,c8)"
   ]
  },
  {
   "cell_type": "code",
   "execution_count": 162,
   "metadata": {},
   "outputs": [],
   "source": [
    "sK_sizeNtimes=np.array(sK_sizeNtimes)\n",
    "my_sizeNtimes=np.array(my_sizeNtimes)"
   ]
  },
  {
   "cell_type": "code",
   "execution_count": 163,
   "metadata": {},
   "outputs": [
    {
     "data": {
      "text/plain": [
       "Text(0.5, 1.0, 'Time complexity comparison of SVM methods')"
      ]
     },
     "execution_count": 163,
     "metadata": {},
     "output_type": "execute_result"
    },
    {
     "data": {
      "image/png": "[encoded data removed]",
      "text/plain": [
       "<Figure size 640x480 with 1 Axes>"
      ]
     },
     "metadata": {},
     "output_type": "display_data"
    }
   ],
   "source": [
    "plt.plot(sK_sizeNtimes.T[0], sK_sizeNtimes.T[1],marker='o',label='SVO_SVM')\n",
    "plt.plot(my_sizeNtimes.T[0], my_sizeNtimes.T[1],marker='o',label='my_SVM')\n",
    "\n",
    "plt.ylim(0,300)\n",
    "plt.xlim(100,800)\n",
    "\n",
    "plt.xlabel('No. Samples')\n",
    "plt.ylabel('Time (ms)')\n",
    "\n",
    "plt.legend(loc=\"upper left\")\n",
    "plt.title('Time complexity comparison of SVM methods')"
   ]
  }
 ],
 "metadata": {
  "kernelspec": {
   "display_name": "Python 3",
   "language": "python",
   "name": "python3"
  },
  "language_info": {
   "codemirror_mode": {
    "name": "ipython",
    "version": 3
   },
   "file_extension": ".py",
   "mimetype": "text/x-python",
   "name": "python",
   "nbconvert_exporter": "python",
   "pygments_lexer": "ipython3",
   "version": "3.12.1"
  }
 },
 "nbformat": 4,
 "nbformat_minor": 2
}
