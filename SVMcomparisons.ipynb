{
 "cells": [
  {
   "cell_type": "code",
   "execution_count": 11,
   "metadata": {},
   "outputs": [],
   "source": [
    "import numpy as np\n",
    "from matplotlib import pyplot as plt\n",
    "import time\n",
    "\n",
    "from sklearn.svm import SVC\n",
    "from cvxopt import matrix as cvxopt_matrix\n",
    "from cvxopt import solvers as cvxopt_solvers"
   ]
  },
  {
   "cell_type": "code",
   "execution_count": 12,
   "metadata": {},
   "outputs": [],
   "source": [
    "d50=np.random.rand(50,2)\n",
    "d200=np.random.rand(200,2)\n",
    "d500=np.random.rand(500,2)\n",
    "d1000=np.random.rand(1000,2)"
   ]
  },
  {
   "cell_type": "code",
   "execution_count": 13,
   "metadata": {},
   "outputs": [],
   "source": [
    "c50=np.random.choice([-1,1],50)\n",
    "c200=np.random.choice([-1,1],200)\n",
    "c500=np.random.choice([-1,1],500)\n",
    "c1000=np.random.choice([-1,1],1000)"
   ]
  },
  {
   "cell_type": "code",
   "execution_count": 17,
   "metadata": {},
   "outputs": [
    {
     "data": {
      "text/plain": [
       "array([ 1, -1, -1, -1, -1, -1, -1,  1, -1, -1, -1,  1, -1, -1, -1,  1,  1,\n",
       "        1,  1,  1,  1, -1, -1, -1, -1,  1,  1, -1,  1, -1,  1,  1, -1,  1,\n",
       "        1, -1,  1,  1,  1, -1,  1,  1, -1,  1,  1, -1,  1, -1, -1, -1])"
      ]
     },
     "execution_count": 17,
     "metadata": {},
     "output_type": "execute_result"
    }
   ],
   "source": [
    "c50"
   ]
  },
  {
   "cell_type": "code",
   "execution_count": 14,
   "metadata": {},
   "outputs": [],
   "source": [
    "# SVM\n",
    "def mySVM(X,y):    \n",
    "    start=time.time()\n",
    "    C = 100\n",
    "    m,n = X.shape\n",
    "    Xy = y * X\n",
    "    H = np.dot(Xy , Xy.T)\n",
    "\n",
    "    P = cvxopt_matrix(H)\n",
    "    q = cvxopt_matrix(-np.ones((m, 1)))\n",
    "    G = cvxopt_matrix(np.vstack((np.eye(m)*-1,np.eye(m))))\n",
    "    h = cvxopt_matrix(np.hstack((np.zeros(m), np.ones(m) * C)))\n",
    "    A = cvxopt_matrix(y.T*1.0)\n",
    "    b = cvxopt_matrix(np.zeros(1))\n",
    "    \n",
    "    sol = cvxopt_solvers.qp(P, q, G, h, A, b)\n",
    "\n",
    "    lambdas = np.array(sol['x'])\n",
    "    w = ((y * lambdas).T @ X).reshape(-1,1)\n",
    "    Sv = ((lambdas>0.09999) ).flatten()\n",
    "    w0 = np.mean(y[Sv] - np.dot(X[Sv], w))\n",
    "    end=time.time()\n",
    "    return((end-start) * 10**3)\n"
   ]
  },
  {
   "cell_type": "code",
   "execution_count": 15,
   "metadata": {},
   "outputs": [
    {
     "ename": "ValueError",
     "evalue": "operands could not be broadcast together with shapes (50,) (50,2) ",
     "output_type": "error",
     "traceback": [
      "\u001b[1;31m---------------------------------------------------------------------------\u001b[0m",
      "\u001b[1;31mValueError\u001b[0m                                Traceback (most recent call last)",
      "Cell \u001b[1;32mIn[15], line 1\u001b[0m\n\u001b[1;32m----> 1\u001b[0m \u001b[43mmySVM\u001b[49m\u001b[43m(\u001b[49m\u001b[43md50\u001b[49m\u001b[43m,\u001b[49m\u001b[43mc50\u001b[49m\u001b[43m)\u001b[49m\n",
      "Cell \u001b[1;32mIn[14], line 6\u001b[0m, in \u001b[0;36mmySVM\u001b[1;34m(X, y)\u001b[0m\n\u001b[0;32m      4\u001b[0m C \u001b[38;5;241m=\u001b[39m \u001b[38;5;241m100\u001b[39m\n\u001b[0;32m      5\u001b[0m m,n \u001b[38;5;241m=\u001b[39m X\u001b[38;5;241m.\u001b[39mshape\n\u001b[1;32m----> 6\u001b[0m Xy \u001b[38;5;241m=\u001b[39m \u001b[43my\u001b[49m\u001b[43m \u001b[49m\u001b[38;5;241;43m*\u001b[39;49m\u001b[43m \u001b[49m\u001b[43mX\u001b[49m\n\u001b[0;32m      7\u001b[0m H \u001b[38;5;241m=\u001b[39m np\u001b[38;5;241m.\u001b[39mdot(Xy , Xy\u001b[38;5;241m.\u001b[39mT)\n\u001b[0;32m      9\u001b[0m P \u001b[38;5;241m=\u001b[39m cvxopt_matrix(H)\n",
      "\u001b[1;31mValueError\u001b[0m: operands could not be broadcast together with shapes (50,) (50,2) "
     ]
    }
   ],
   "source": [
    "mySVM(d50,c50)"
   ]
  }
 ],
 "metadata": {
  "kernelspec": {
   "display_name": "Python 3",
   "language": "python",
   "name": "python3"
  },
  "language_info": {
   "codemirror_mode": {
    "name": "ipython",
    "version": 3
   },
   "file_extension": ".py",
   "mimetype": "text/x-python",
   "name": "python",
   "nbconvert_exporter": "python",
   "pygments_lexer": "ipython3",
   "version": "3.12.1"
  }
 },
 "nbformat": 4,
 "nbformat_minor": 2
}
